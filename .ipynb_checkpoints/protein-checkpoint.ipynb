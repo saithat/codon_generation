{
 "cells": [
  {
   "cell_type": "code",
   "execution_count": 1,
   "metadata": {},
   "outputs": [],
   "source": [
    "from random import *\n",
    "import csv"
   ]
  },
  {
   "cell_type": "code",
   "execution_count": 2,
   "metadata": {},
   "outputs": [],
   "source": [
    "DNA_codon_table = [\n",
    "        (\"ATG\",\"M/Start\"), (\"ATA\",\"I\"), (\"ATC\",\"I\"), (\"ATT\",\"I\"), (\"ACG\",\"T\"), (\"ACA\",\"T\"),\n",
    "        (\"ACC\",\"T\"), (\"ACT\", \"T\"), (\"AAG\",\"K\"), (\"AAA\",\"K\"), (\"AAC\",\"N\"), (\"AAT\",\"N\"),\n",
    "        (\"AGG\",\"R\"), (\"AGA\",\"R\"), (\"AGC\",\"S\"), (\"AGT\",\"S\"), \n",
    "        (\"GTG\",\"V\"), (\"GTA\",\"V\"), (\"GTC\",\"V\"), (\"GTT\",\"V\"), (\"GCG\",\"A\"), (\"GCA\",\"A\"), (\"GCC\",\"A\"), (\"GCT\",\"A\"), \n",
    "        (\"GAG\",\"E\"), (\"GAA\",\"E\"), (\"GAC\",\"D\"), (\"GAT\",\"D\"), (\"GGG\",\"G\"), (\"GGA\",\"G\"), (\"GGC\",\"G\"), (\"GGT\",\"G\"), \n",
    "        (\"CTG\",\"L\"), (\"CTA\",\"L\"), (\"CTC\",\"L\"), (\"CTT\",\"L\"), (\"CCG\",\"P\"), (\"CCA\",\"P\"), (\"CCC\",\"P\"), (\"CCT\",\"P\"),\n",
    "        (\"CAG\",\"Q\"), (\"CAA\",\"Q\"), (\"CAC\",\"H\"), (\"CAT\",\"H\"), (\"CGG\",\"R\"), (\"CGA\",\"R\"), (\"CGC\",\"R\"), (\"CGT\",\"R\"),\n",
    "        (\"TTG\",\"L\"), (\"TTA\",\"L\"), (\"TTC\",\"F\"), (\"TTT\",\"F\"), (\"TCG\",\"S\"), (\"TCA\",\"S\"), (\"TCC\",\"S\"), (\"TCT\",\"S\"),\n",
    "        (\"TAC\",\"Y\"), (\"TAT\",\"Y\"), (\"TGG\",\"W\"), (\"TGC\",\"C\"), (\"TGT\",\"C\"), (\"TAG\",\"Amber/Stop\"),\n",
    "        (\"TAA\",\"Ochre/Stop\"),(\"TGA\",\"Opal/Stop\")\n",
    "]\n",
    "\n",
    "stop = [\"TAG\", \"TAA\", \"TGA\"]"
   ]
  },
  {
   "cell_type": "code",
   "execution_count": 3,
   "metadata": {},
   "outputs": [
    {
     "data": {
      "text/plain": [
       "64"
      ]
     },
     "execution_count": 3,
     "metadata": {},
     "output_type": "execute_result"
    }
   ],
   "source": [
    "len(DNA_codon_table)"
   ]
  },
  {
   "cell_type": "code",
   "execution_count": 4,
   "metadata": {},
   "outputs": [],
   "source": [
    "def create_protein(aminos, seq_length):\n",
    "    protein = []\n",
    "    for j in range(0, seq_length):  #generating one specific protein sequence\n",
    "        protein.append(aminos[randint(0, len(aminos)-1)])  #DNA sequences\n",
    "    return protein"
   ]
  },
  {
   "cell_type": "code",
   "execution_count": 5,
   "metadata": {},
   "outputs": [],
   "source": [
    "def num_comb(val, codon_dict):\n",
    "    pos_comb = 0\n",
    "    for key, value in codon_dict.items():\n",
    "        if value == val:\n",
    "            pos_comb += 1\n",
    "    return pos_comb"
   ]
  },
  {
   "cell_type": "code",
   "execution_count": 6,
   "metadata": {},
   "outputs": [],
   "source": [
    "def find_comb(val, codon_dict):\n",
    "    combs = []\n",
    "    for key, value in codon_dict.items():\n",
    "        if value == val:\n",
    "            combs.append(key)\n",
    "    return combs"
   ]
  },
  {
   "cell_type": "code",
   "execution_count": 7,
   "metadata": {},
   "outputs": [],
   "source": [
    "def create_sequences(protein, num_seq):\n",
    "    '''\n",
    "        1. Protein sequence\n",
    "        2. used_key lists for each amino acid\n",
    "                           -OR-\n",
    "           lists of possible key values for each key\n",
    "    '''\n",
    "    sequence = []\n",
    "    tmp = []\n",
    "    amino_list = []\n",
    "    for i in range(0, len(protein)):\n",
    "        amino_list.append(False)\n",
    "    amino_list[0] = True\n",
    "    codon_dict = dict(DNA_codon_table)\n",
    "    #print(codon_dict)\n",
    "    seq_count = 0\n",
    "    comb_dict = {}\n",
    "    for i in range(0, len(protein)):\n",
    "        #print(codon_dict[protein[i]])\n",
    "        combs = find_comb(codon_dict[protein[i]], codon_dict)\n",
    "        #print(type(comb_dict))\n",
    "        comb_dict[i] = combs\n",
    "    #print(comb_dict)\n",
    "    index = 0\n",
    "    comb_tracker = [0 for i in range(0,len(protein))]\n",
    "    #print(comb_tracker)\n",
    "    while 1:\n",
    "        for i in range(0, len(protein)):\n",
    "            if(amino_list[i] == True):\n",
    "                key = comb_dict[i][seq_count % len(comb_dict[i])]\n",
    "                #print(key)\n",
    "                tmp.append(key)\n",
    "                comb_tracker[i] += 1\n",
    "            else:\n",
    "                tmp.append(comb_dict[i][0])\n",
    "            #print(tmp)\n",
    "            #print(comb_dict[i])\n",
    "            #print(\"length of comb_dict[i] \", len(comb_dict[i]))\n",
    "            if comb_tracker[i] == len(comb_dict[i]):\n",
    "                if( i != len(protein)):\n",
    "                    amino_list[i+1] = True\n",
    "                else:\n",
    "                    amino_list[i] = True\n",
    "        #print(amino_list)\n",
    "       # print(comb_tracker)\n",
    "        seq_count += 1\n",
    "        sequence.append(list(tmp))\n",
    "        tmp.clear()\n",
    "        if(seq_count == (num_seq)):\n",
    "            break\n",
    "    #print(sequence)\n",
    "    return sequence"
   ]
  },
  {
   "cell_type": "code",
   "execution_count": 8,
   "metadata": {},
   "outputs": [],
   "source": [
    "def create_set(num_aminos, seq_length, num_classes, seq_per_class):\n",
    "    s = \"\"\n",
    "    if num_aminos < 3:\n",
    "        print(\"Need more aminos\")\n",
    "        return\n",
    "    rand_aminos = []\n",
    "    classes = {}\n",
    "    for i in range(1, num_aminos-3): #-2 because of start and stop codons\n",
    "        rand_aminos.append(DNA_codon_table[randint(1, 62)][0])  #looking at DNA\n",
    "    for i in range(0, num_classes):  #generating diffferent proteins\n",
    "        seq_new = []\n",
    "        protein = create_protein(rand_aminos, seq_length)\n",
    "        #print(protein)\n",
    "        seq = create_sequences(protein, seq_per_class)\n",
    "        for j in seq:\n",
    "            j.insert(0, \"ATG\")\n",
    "            j.append(choice(stop))\n",
    "            seq_new.append(''.join(j))\n",
    "            #print(j)\n",
    "        #print(type(seq_new))\n",
    "        classes[i] = seq_new\n",
    "    return classes"
   ]
  },
  {
   "cell_type": "code",
   "execution_count": 9,
   "metadata": {},
   "outputs": [
    {
     "data": {
      "text/plain": [
       "{0: ['ATGCAGCTGTTCCTGTTCAGCCTGAGCCTGCTGTAA',\n",
       "  'ATGCAACTATTCCTGTTCAGCCTGAGCCTGCTGTAG',\n",
       "  'ATGCAGCTCTTCCTGTTCAGCCTGAGCCTGCTGTAA',\n",
       "  'ATGCAACTTTTCCTGTTCAGCCTGAGCCTGCTGTAG',\n",
       "  'ATGCAGTTGTTCCTGTTCAGCCTGAGCCTGCTGTAG',\n",
       "  'ATGCAATTATTCCTGTTCAGCCTGAGCCTGCTGTGA',\n",
       "  'ATGCAGCTGTTCCTGTTCAGCCTGAGCCTGCTGTGA',\n",
       "  'ATGCAACTATTTCTATTCAGCCTGAGCCTGCTGTAG'],\n",
       " 1: ['ATGTGGATATTCCAGATAAGCCTGAAGCTGAGCTAG',\n",
       "  'ATGTGGATCTTCCAGATAAGCCTGAAGCTGAGCTAA',\n",
       "  'ATGTGGATTTTCCAGATAAGCCTGAAGCTGAGCTAG',\n",
       "  'ATGTGGATATTTCAAATAAGCCTGAAGCTGAGCTGA',\n",
       "  'ATGTGGATCTTCCAGATCAGCCTGAAGCTGAGCTAA',\n",
       "  'ATGTGGATTTTTCAAATTAGCCTGAAGCTGAGCTAA',\n",
       "  'ATGTGGATATTCCAGATAAGCCTGAAGCTGAGCTGA',\n",
       "  'ATGTGGATCTTTCAAATCAGTCTGAAGCTGAGCTGA'],\n",
       " 2: ['ATGTTCAGCAAGTGGTGGAAGAAGCTGTGGATATGA',\n",
       "  'ATGTTTAGTAAGTGGTGGAAGAAGCTGTGGATATAA',\n",
       "  'ATGTTCTCGAAGTGGTGGAAGAAGCTGTGGATATGA',\n",
       "  'ATGTTTTCAAAGTGGTGGAAGAAGCTGTGGATATGA',\n",
       "  'ATGTTCTCCAAGTGGTGGAAGAAGCTGTGGATATGA',\n",
       "  'ATGTTTTCTAAGTGGTGGAAGAAGCTGTGGATATAA',\n",
       "  'ATGTTCAGCAAGTGGTGGAAGAAGCTGTGGATATGA',\n",
       "  'ATGTTTAGTAAATGGTGGAAAAAGCTGTGGATATAG'],\n",
       " 3: ['ATGTGGAGCAGCCAGCAGATACTGTTCAACCTGTAG',\n",
       "  'ATGTGGAGTAGCCAGCAGATACTGTTCAACCTGTAG',\n",
       "  'ATGTGGTCGAGCCAGCAGATACTGTTCAACCTGTGA',\n",
       "  'ATGTGGTCAAGCCAGCAGATACTGTTCAACCTGTAG',\n",
       "  'ATGTGGTCCAGCCAGCAGATACTGTTCAACCTGTGA',\n",
       "  'ATGTGGTCTTCTCAGCAGATACTGTTCAACCTGTGA',\n",
       "  'ATGTGGAGCAGCCAGCAGATACTGTTCAACCTGTAA',\n",
       "  'ATGTGGAGTAGTCAGCAGATACTGTTCAACCTGTGA'],\n",
       " 4: ['ATGCTGTTCAACTTCAACTTCAGCATACAGCTGTAA',\n",
       "  'ATGCTATTCAACTTCAACTTCAGCATACAGCTGTGA',\n",
       "  'ATGCTCTTCAACTTCAACTTCAGCATACAGCTGTAG',\n",
       "  'ATGCTTTTCAACTTCAACTTCAGCATACAGCTGTAG',\n",
       "  'ATGTTGTTCAACTTCAACTTCAGCATACAGCTGTAA',\n",
       "  'ATGTTATTTAACTTCAACTTCAGCATACAGCTGTGA',\n",
       "  'ATGCTGTTCAACTTCAACTTCAGCATACAGCTGTAG',\n",
       "  'ATGCTATTTAATTTTAACTTCAGCATACAGCTGTGA'],\n",
       " 5: ['ATGCTGGTGAGCGTGCTGTTCGTGCTGCTGTTCTGA',\n",
       "  'ATGCTAGTGAGCGTGCTGTTCGTGCTGCTGTTCTAG',\n",
       "  'ATGCTCGTGAGCGTGCTGTTCGTGCTGCTGTTCTAA',\n",
       "  'ATGCTTGTGAGCGTGCTGTTCGTGCTGCTGTTCTAG',\n",
       "  'ATGTTGGTGAGCGTGCTGTTCGTGCTGCTGTTCTAA',\n",
       "  'ATGTTAGTAAGCGTGCTGTTCGTGCTGCTGTTCTGA',\n",
       "  'ATGCTGGTCAGCGTGCTGTTCGTGCTGCTGTTCTAA',\n",
       "  'ATGCTAGTTAGCGTGCTGTTCGTGCTGCTGTTCTAA']}"
      ]
     },
     "execution_count": 9,
     "metadata": {},
     "output_type": "execute_result"
    }
   ],
   "source": [
    "my_dict = create_set(50,20, 30, 8)\n",
    "#list of tuples (x,y) where x is a string and y is index\n",
    "\n",
    "with open('../data.csv', 'w') as f:\n",
    "    for key in my_dict.keys():\n",
    "        f.write(\"%s,%s\\n\"%(key,my_dict[key]))"
   ]
  },
  {
   "cell_type": "code",
   "execution_count": null,
   "metadata": {},
   "outputs": [],
   "source": []
  }
 ],
 "metadata": {
  "kernelspec": {
   "display_name": "Python 3",
   "language": "python",
   "name": "python3"
  },
  "language_info": {
   "codemirror_mode": {
    "name": "ipython",
    "version": 3
   },
   "file_extension": ".py",
   "mimetype": "text/x-python",
   "name": "python",
   "nbconvert_exporter": "python",
   "pygments_lexer": "ipython3",
   "version": "3.7.4"
  }
 },
 "nbformat": 4,
 "nbformat_minor": 4
}
