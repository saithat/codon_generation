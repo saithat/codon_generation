{
 "cells": [
  {
   "cell_type": "code",
   "execution_count": 1,
   "metadata": {},
   "outputs": [],
   "source": [
    "from random import *\n",
    "import csv"
   ]
  },
  {
   "cell_type": "code",
   "execution_count": 2,
   "metadata": {},
   "outputs": [],
   "source": [
    "DNA_codon_table = [\n",
    "        (\"ATG\",\"M/Start\"), (\"ATA\",\"I\"), (\"ATC\",\"I\"), (\"ATT\",\"I\"), (\"ACG\",\"T\"), (\"ACA\",\"T\"),\n",
    "        (\"ACC\",\"T\"), (\"ACT\", \"T\"), (\"AAG\",\"K\"), (\"AAA\",\"K\"), (\"AAC\",\"N\"), (\"AAT\",\"N\"),\n",
    "        (\"AGG\",\"R\"), (\"AGA\",\"R\"), (\"AGC\",\"S\"), (\"AGT\",\"S\"), \n",
    "        (\"GTG\",\"V\"), (\"GTA\",\"V\"), (\"GTC\",\"V\"), (\"GTT\",\"V\"), (\"GCG\",\"A\"), (\"GCA\",\"A\"), (\"GCC\",\"A\"), (\"GCT\",\"A\"), \n",
    "        (\"GAG\",\"E\"), (\"GAA\",\"E\"), (\"GAC\",\"D\"), (\"GAT\",\"D\"), (\"GGG\",\"G\"), (\"GGA\",\"G\"), (\"GGC\",\"G\"), (\"GGT\",\"G\"), \n",
    "        (\"CTG\",\"L\"), (\"CTA\",\"L\"), (\"CTC\",\"L\"), (\"CTT\",\"L\"), (\"CCG\",\"P\"), (\"CCA\",\"P\"), (\"CCC\",\"P\"), (\"CCT\",\"P\"),\n",
    "        (\"CAG\",\"Q\"), (\"CAA\",\"Q\"), (\"CAC\",\"H\"), (\"CAT\",\"H\"), (\"CGG\",\"R\"), (\"CGA\",\"R\"), (\"CGC\",\"R\"), (\"CGT\",\"R\"),\n",
    "        (\"TTG\",\"L\"), (\"TTA\",\"L\"), (\"TTC\",\"F\"), (\"TTT\",\"F\"), (\"TCG\",\"S\"), (\"TCA\",\"S\"), (\"TCC\",\"S\"), (\"TCT\",\"S\"),\n",
    "        (\"TAC\",\"Y\"), (\"TAT\",\"Y\"), (\"TGG\",\"W\"), (\"TGC\",\"C\"), (\"TGT\",\"C\"), (\"TAG\",\"Amber/Stop\"),\n",
    "        (\"TAA\",\"Ochre/Stop\"),(\"TGA\",\"Opal/Stop\")\n",
    "]\n",
    "\n",
    "stop = [\"TAG\", \"TAA\", \"TGA\"]"
   ]
  },
  {
   "cell_type": "code",
   "execution_count": 3,
   "metadata": {},
   "outputs": [
    {
     "data": {
      "text/plain": "64"
     },
     "execution_count": 3,
     "metadata": {},
     "output_type": "execute_result"
    }
   ],
   "source": [
    "len(DNA_codon_table)"
   ]
  },
  {
   "cell_type": "code",
   "execution_count": 4,
   "metadata": {},
   "outputs": [],
   "source": [
    "def create_protein(aminos, seq_length):\n",
    "    protein = []\n",
    "    for j in range(0, seq_length):  #generating one specific protein sequence\n",
    "        protein.append(aminos[randint(0, len(aminos)-1)])  #DNA sequences\n",
    "    return protein"
   ]
  },
  {
   "cell_type": "code",
   "execution_count": 5,
   "metadata": {},
   "outputs": [],
   "source": [
    "def num_comb(val, codon_dict):\n",
    "    pos_comb = 0\n",
    "    for key, value in codon_dict.items():\n",
    "        if value == val:\n",
    "            pos_comb += 1\n",
    "    return pos_comb"
   ]
  },
  {
   "cell_type": "code",
   "execution_count": 6,
   "metadata": {},
   "outputs": [],
   "source": [
    "def find_comb(val, codon_dict):\n",
    "    combs = []\n",
    "    for key, value in codon_dict.items():\n",
    "        if value == val:\n",
    "            combs.append(key)\n",
    "    return combs"
   ]
  },
  {
   "cell_type": "code",
   "execution_count": 7,
   "metadata": {},
   "outputs": [],
   "source": [
    "def create_sequences(protein, num_seq):\n",
    "    '''\n",
    "        1. Protein sequence\n",
    "        2. used_key lists for each amino acid\n",
    "                           -OR-\n",
    "           lists of possible key values for each key\n",
    "    '''\n",
    "    sequence = []\n",
    "    tmp = []\n",
    "    amino_list = []\n",
    "    for i in range(0, len(protein)):\n",
    "        amino_list.append(False)\n",
    "    amino_list[0] = True\n",
    "    codon_dict = dict(DNA_codon_table)\n",
    "    #print(codon_dict)\n",
    "    seq_count = 0\n",
    "    comb_dict = {}\n",
    "    for i in range(0, len(protein)):\n",
    "        #print(codon_dict[protein[i]])\n",
    "        combs = find_comb(codon_dict[protein[i]], codon_dict)\n",
    "        #print(type(comb_dict))\n",
    "        comb_dict[i] = combs\n",
    "    #print(comb_dict)\n",
    "    index = 0\n",
    "    comb_tracker = [0 for i in range(0,len(protein))]\n",
    "    #print(comb_tracker)\n",
    "    while 1:\n",
    "        for i in range(0, len(protein)):\n",
    "            if(amino_list[i] == True):\n",
    "                key = comb_dict[i][seq_count % len(comb_dict[i])]\n",
    "                #print(key)\n",
    "                tmp.append(key)\n",
    "                comb_tracker[i] += 1\n",
    "            else:\n",
    "                tmp.append(comb_dict[i][0])\n",
    "            print(tmp)\n",
    "            #print(comb_dict[i])\n",
    "            #print(\"length of comb_dict[i] \", len(comb_dict[i]))\n",
    "            if comb_tracker[i] == len(comb_dict[i]):\n",
    "                if( i != len(protein)):\n",
    "                    amino_list[i+1] = True\n",
    "                else:\n",
    "                    amino_list[i] = True\n",
    "        #print(amino_list)\n",
    "       # print(comb_tracker)\n",
    "        seq_count += 1\n",
    "        sequence.append(list(tmp))\n",
    "        tmp.clear()\n",
    "        if(seq_count == (num_seq)):\n",
    "            break\n",
    "    #print(sequence)\n",
    "    return sequence"
   ]
  },
  {
   "cell_type": "code",
   "execution_count": 8,
   "metadata": {},
   "outputs": [],
   "source": [
    "def create_set(num_aminos, seq_length, num_classes, seq_per_class):\n",
    "    s = \"\"\n",
    "    if num_aminos < 3:\n",
    "        print(\"Need more aminos\")\n",
    "        return\n",
    "    rand_aminos = []\n",
    "    classes = {}\n",
    "    for i in range(1, num_aminos-3): #-2 because of start and stop codons\n",
    "        rand_aminos.append(DNA_codon_table[randint(1, 62)][0])  #looking at DNA\n",
    "    for i in range(0, num_classes):  #generating diffferent proteins\n",
    "        seq_new = []\n",
    "        protein = create_protein(rand_aminos, seq_length)\n",
    "        #print(protein)\n",
    "        seq = create_sequences(protein, seq_per_class)\n",
    "        for j in seq:\n",
    "            j.insert(0, \"ATG\")\n",
    "            j.append(choice(stop))\n",
    "            seq_new.append(''.join(j))\n",
    "            #print(j)\n",
    "        #print(type(seq_new))\n",
    "        classes[i] = seq_new\n",
    "    return classes"
   ]
  },
  {
   "cell_type": "code",
   "execution_count": 9,
   "metadata": {},
   "outputs": [
    {
     "name": "stdout",
     "output_type": "stream",
     "text": "CG', 'GCG', 'GCG', 'CCG', 'CTG', 'TAC', 'GTG', 'AGG', 'GAC', 'AAC', 'CCG', 'AAC', 'GGG', 'CTG', 'ATA', 'CTG', 'GAG', 'AAG', 'AAG', 'AAC', 'GCG', 'AAG', 'TAA', 'TAA', 'AGG', 'CTG', 'CCG', 'TAG', 'GCG', 'ATA', 'AAG', 'GCG', 'GCG', 'GCG', 'TAA', 'AAC', 'AAG', 'GCG', 'AAC', 'TAA', 'TAA', 'GGG', 'GGG', 'TAG', 'GCG', 'GCG', 'TAA', 'GGG', 'GCG', 'AAG', 'AAG', 'AAC', 'AGG', 'CTG', 'AAC', 'GAC', 'GGG', 'CTG', 'ACG', 'AGG', 'GGG', 'AAC', 'CCG', 'AAG', 'GAC', 'TTC', 'TAA', 'GGG', 'GAC', 'TGC', 'GGG', 'AAG', 'GGG', 'CCG', 'CCG', 'AAC', 'CCG', 'GGG', 'GGG', 'GGG', 'TAC', 'AGG', 'GAC', 'AAG', 'CAG', 'GCG', 'AGG', 'AAC', 'CCG', 'AGC', 'AGG', 'TAC', 'GCG', 'CCG', 'AGG', 'AGG', 'AGG', 'GCG', 'CCG', 'AGC', 'GAG', 'TAC', 'AAC', 'GAG', 'AAG', 'GGG', 'TAG', 'GGG', 'GAC', 'GCG', 'GCG', 'GCG', 'GAC', 'AAC', 'AAC', 'AGG', 'AGC', 'GCG', 'CCG', 'AGG', 'GGG', 'AGG', 'TAA', 'TTC', 'TGC', 'TAA', 'CCG', 'AGG', 'AAG', 'AGG', 'GCG', 'TAC', 'GGG', 'GTG', 'ATA', 'GCG', 'ATA', 'GCG', 'TGC', 'GGG', 'TGC', 'AGC', 'CCG', 'AAC', 'ATA', 'AGG', 'AGG', 'GAC', 'GCG', 'AGG', 'CCG', 'AAG', 'AAC', 'TAC', 'GCG', 'AGC', 'AAC', 'AAC', 'AAC', 'AAC', 'CCG', 'CTG', 'AGG', 'TAA', 'AGG', 'CTG', 'GCG', 'CCG', 'CCG', 'GCG', 'GCG', 'GAC', 'AAG', 'TAA', 'AGG', 'GCG', 'ATA', 'AAC', 'AAG', 'AAG', 'TTC', 'CCG', 'GGG', 'GGG', 'ACG', 'AAG', 'AAC', 'CAC', 'CCG', 'AGG', 'CCG', 'AAG', 'AAG', 'GTG', 'AGG', 'TAG', 'GGG', 'GGG', 'TAC', 'AAG', 'CTG', 'CCG', 'GCG', 'AGC', 'GCG', 'GCG', 'GCG', 'AGG', 'ACG', 'GGG', 'TAC', 'CTG', 'GCG', 'CCG', 'TAG', 'CCG', 'AGC', 'AGG', 'AGG', 'GAC', 'GGG', 'AAC', 'AGG', 'GCG', 'CCG', 'CCG', 'AGC', 'AGG', 'GAC', 'GCG', 'GCG', 'CCG', 'AGG', 'CTG', 'AAC', 'GCG', 'CCG', 'AGG', 'GAG', 'AGG', 'ATA', 'GCG', 'AAC', 'GAC', 'CTG', 'AAC', 'ATA', 'GGG', 'TAG', 'CAG', 'GCG', 'GCG', 'AGG', 'GCG', 'GTG', 'AAG', 'CAC', 'GCG', 'GCG', 'AAC', 'GCG', 'GGG', 'GTG', 'CAC', 'AGG', 'AGG', 'GGG', 'CCG', 'GTG', 'TAC', 'GAC', 'TAC', 'GCG', 'GAC', 'TGC', 'TAC', 'AAC', 'CCG', 'GGG', 'AAG', 'CAG', 'GCG', 'CCG', 'GCG', 'AAG', 'CAC', 'GGG', 'ATA', 'AAC', 'GCG', 'GGG', 'CAG', 'GCG', 'CTG', 'AAC', 'CTG', 'GGG', 'GCG', 'ACG', 'GCG', 'AAC', 'CTG', 'AGG', 'AAG', 'ATA', 'CAG', 'AAC', 'CCG', 'AAG', 'GCG', 'GGG', 'AGG', 'GGG', 'CCG', 'CTG', 'TAG', 'TAA', 'GAG', 'GCG', 'CCG', 'GGG', 'GGG']\n['AGC', 'CCG', 'GCG', 'GCG', 'GCG', 'GCG', 'GCG', 'AAG', 'AGC', 'CCG', 'TAC', 'TGC', 'AAC', 'AGG', 'ATA', 'GAC', 'CCG', 'GCG', 'CTG', 'GTG', 'AGG', 'AAG', 'GCG', 'GCG', 'GAG', 'GCG', 'AGC', 'ATA', 'CCG', 'GGG', 'TAC', 'CAC', 'ATA', 'AGG', 'AAC', 'AGC', 'GCG', 'GCG', 'CCG', 'GCG', 'AGC', 'CCG', 'TAG', 'CCG', 'GCG', 'CCG', 'GAC', 'GAG', 'CAG', 'ATA', 'ACG', 'AAG', 'CTG', 'GCG', 'TTC', 'CCG', 'AGG', 'ATA', 'AGG', 'CCG', 'AAC', 'GCG', 'CAG', 'GCG', 'CCG', 'AGG', 'ATA', 'GCG', 'AGC', 'CCG', 'AGG', 'GCG', 'GGG', 'GCG', 'AGG', 'CCG', 'GGG', 'AAC', 'AAC', 'GCG', 'CCG', 'GGG', 'AGG', 'CTG', 'CCG', 'CCG', 'ACG', 'AAC', 'GCG', 'CTG', 'GCG', 'GAC', 'GCG', 'TAC', 'GTG', 'ATA', 'AAG', 'AGG', 'AAG', 'CTG', 'CCG', 'GAG', 'TAA', 'AGG', 'ACG', 'AAC', 'GCG', 'GCG', 'AAC', 'TAA', 'CCG', 'GCG', 'TAA', 'ATA', 'CAC', 'CCG', 'AGG', 'AGG', 'AGC', 'GTG', 'AGG', 'GCG', 'AGG', 'CCG', 'AAC', 'GGG', 'CCG', 'TTC', 'GCG', 'AAC', 'GCG', 'AAG', 'CTG', 'ACG', 'AAC', 'TAA', 'TGC', 'GAC', 'CCG', 'AAG', 'AAC', 'GGG', 'AAC', 'AAC', 'GCG', 'AGC', 'AGC', 'CAG', 'AGG', 'GAC', 'GCG', 'CCG', 'GCG', 'CCG', 'GCG', 'GCG', 'GCG', 'GAC', 'CTG', 'ATA', 'AAC', 'AGG', 'TTC', 'GCG', 'AAC', 'TAC', 'TGC', 'AAC', 'AGC', 'CCG', 'CCG', 'AGG', 'GCG', 'TAC', 'GCG', 'GAC', 'CTG', 'AGC', 'GAC', 'AGG', 'AGC', 'GGG', 'CCG', 'GCG', 'GGG', 'GGG', 'GCG', 'AAC', 'GCG', 'AGC', 'ATA', 'CCG', 'GAC', 'GAC', 'GTG', 'ACG', 'AGC', 'GCG', 'CTG', 'GCG', 'GCG', 'AAC', 'AAG', 'GCG', 'GCG', 'CCG', 'GAG', 'GCG', 'GCG', 'CCG', 'GCG', 'GCG', 'GCG', 'AAC', 'GAG', 'ATA', 'AGC', 'GCG', 'GCG', 'AGC', 'AGC', 'ATA', 'ATA', 'AAG', 'AGG', 'AAG', 'ACG', 'GAC', 'CCG', 'AGG', 'AAC', 'GCG', 'AGG', 'CCG', 'AGG', 'AAG', 'CCG', 'CTG', 'CCG', 'TAC', 'GCG', 'CCG', 'AGG', 'GCG', 'GCG', 'AAC', 'GCG', 'CAG', 'GCG', 'GGG', 'CTG', 'AAG', 'AGC', 'GCG', 'AGC', 'AAG', 'CCG', 'AAG', 'CTG', 'TAA', 'TGC', 'CAG', 'AGC', 'AGC', 'AGC', 'AGG', 'AAC', 'GAC', 'CCG', 'AAG', 'GAG', 'AAC', 'AGC', 'AGG', 'GCG', 'AGG', 'AAG', 'AAG', 'AGC', 'GAG', 'CAG', 'CCG', 'AGG', 'AAC', 'AAC', 'GCG', 'GTG', 'GCG', 'AGG', 'GCG', 'GCG', 'AGC', 'AAG', 'AAG', 'AAC', 'CTG', 'TAC', 'GAC', 'GAG', 'GGG', 'CCG', 'GCG', 'CTG', 'AAC', 'AAG', 'AAG', 'AGC', 'GCG', 'AGG', 'GCG', 'TAA', 'CCG', 'AAG', 'CAG', 'AGC', 'GAG', 'GGG', 'AAG', 'GCG', 'CCG', 'CCG', 'CTG', 'GCG', 'GCG', 'GCG', 'CCG', 'GCG', 'GAC', 'ATA', 'AGG', 'GCG', 'GCG', 'CCG', 'GGG', 'TAA', 'CCG', 'GGG', 'AGC', 'AGC', 'AGG', 'GGG', 'AGG', 'TAG', 'AGG', 'AGG', 'GGG', 'CCG', 'AGG', 'AGG', 'CCG', 'GCG', 'GCG', 'GTG', 'GAC', 'GGG', 'GAG', 'CAG', 'GCG', 'GCG', 'AGG', 'AAG', 'TAA', 'AAG', 'TAC', 'ATA', 'AAC', 'GCG', 'AGG', 'GAC', 'CCG', 'AAC', 'GTG', 'AAG', 'TAC', 'ATA', 'CCG', 'AAG', 'AAC', 'GCG', 'GAC', 'TAG', 'CCG', 'TAC', 'TAG', 'AGG', 'CTG', 'AAC', 'GCG', 'AGG', 'AGC', 'ATA', 'GAC', 'AGG', 'GCG', 'GCG', 'GCG', 'CCG', 'GCG', 'GCG', 'AAC', 'GCG', 'CAC', 'GAG', 'AGG', 'AGC', 'AAG', 'AAG', 'AGG', 'AAG', 'AGC', 'CAG', 'GCG', 'CCG', 'CCG', 'AAG', 'TAG', 'GGG', 'AGG', 'AAG', 'CTG', 'AAG', 'AGG', 'AGG', 'TGC', 'GCG', 'GGG', 'GAC', 'CCG', 'TAC', 'AAG', 'AAG', 'TTC', 'TAA', 'GAC', 'AGC', 'AAG', 'ATA', 'AGG', 'GGG', 'TAC', 'AGC', 'AAC', 'AAC', 'CAG', 'AAG', 'AAG', 'AGG', 'AGG', 'GAC', 'CCG', 'GCG', 'AAG', 'AGC', 'GTG', 'GGG', 'TAC', 'AAC', 'GCG', 'GCG', 'AGG', 'CTG', 'GCG', 'AAC', 'AAC', 'CTG', 'AGG', 'TAC', 'AAC', 'TAG', 'AGC', 'GCG', 'AAC', 'GAC', 'GGG', 'AGG', 'CTG', 'GCG', 'CCG', 'CTG', 'GCG', 'GCG', 'GGG', 'CCG', 'AAG', 'AAG', 'AGC', 'AGG', 'TAC', 'GCG', 'TAG', 'AAG', 'TAC', 'GCG', 'GCG', 'TAC', 'AAG', 'AGG', 'AAC', 'GCG', 'CCG', 'AAC', 'GCG', 'CCG', 'GCG', 'AGG', 'AGG', 'GAG', 'AGC', 'GCG', 'AGG', 'AAC', 'TAC', 'AAG', 'CAG', 'TTC', 'CCG', 'ATA', 'AAC', 'GTG', 'TAA', 'TAC', 'GCG', 'GCG', 'GCG', 'CCG', 'CTG', 'TAC', 'GTG', 'AGG', 'GAC', 'AAC', 'CCG', 'AAC', 'GGG', 'CTG', 'ATA', 'CTG', 'GAG', 'AAG', 'AAG', 'AAC', 'GCG', 'AAG', 'TAA', 'TAA', 'AGG', 'CTG', 'CCG', 'TAG', 'GCG', 'ATA', 'AAG', 'GCG', 'GCG', 'GCG', 'TAA', 'AAC', 'AAG', 'GCG', 'AAC', 'TAA', 'TAA', 'GGG', 'GGG', 'TAG', 'GCG', 'GCG', 'TAA', 'GGG', 'GCG', 'AAG', 'AAG', 'AAC', 'AGG', 'CTG', 'AAC', 'GAC', 'GGG', 'CTG', 'ACG', 'AGG', 'GGG', 'AAC', 'CCG', 'AAG', 'GAC', 'TTC', 'TAA', 'GGG', 'GAC', 'TGC', 'GGG', 'AAG', 'GGG', 'CCG', 'CCG', 'AAC', 'CCG', 'GGG', 'GGG', 'GGG', 'TAC', 'AGG', 'GAC', 'AAG', 'CAG', 'GCG', 'AGG', 'AAC', 'CCG', 'AGC', 'AGG', 'TAC', 'GCG', 'CCG', 'AGG', 'AGG', 'AGG', 'GCG', 'CCG', 'AGC', 'GAG', 'TAC', 'AAC', 'GAG', 'AAG', 'GGG', 'TAG', 'GGG', 'GAC', 'GCG', 'GCG', 'GCG', 'GAC', 'AAC', 'AAC', 'AGG', 'AGC', 'GCG', 'CCG', 'AGG', 'GGG', 'AGG', 'TAA', 'TTC', 'TGC', 'TAA', 'CCG', 'AGG', 'AAG', 'AGG', 'GCG', 'TAC', 'GGG', 'GTG', 'ATA', 'GCG', 'ATA', 'GCG', 'TGC', 'GGG', 'TGC', 'AGC', 'CCG', 'AAC', 'ATA', 'AGG', 'AGG', 'GAC', 'GCG', 'AGG', 'CCG', 'AAG', 'AAC', 'TAC', 'GCG', 'AGC', 'AAC', 'AAC', 'AAC', 'AAC', 'CCG', 'CTG', 'AGG', 'TAA', 'AGG', 'CTG', 'GCG', 'CCG', 'CCG', 'GCG', 'GCG', 'GAC', 'AAG', 'TAA', 'AGG', 'GCG', 'ATA', 'AAC', 'AAG', 'AAG', 'TTC', 'CCG', 'GGG', 'GGG', 'ACG', 'AAG', 'AAC', 'CAC', 'CCG', 'AGG', 'CCG', 'AAG', 'AAG', 'GTG', 'AGG', 'TAG', 'GGG', 'GGG', 'TAC', 'AAG', 'CTG', 'CCG', 'GCG', 'AGC', 'GCG', 'GCG', 'GCG', 'AGG', 'ACG', 'GGG', 'TAC', 'CTG', 'GCG', 'CCG', 'TAG', 'CCG', 'AGC', 'AGG', 'AGG', 'GAC', 'GGG', 'AAC', 'AGG', 'GCG', 'CCG', 'CCG', 'AGC', 'AGG', 'GAC', 'GCG', 'GCG', 'CCG', 'AGG', 'CTG', 'AAC', 'GCG', 'CCG', 'AGG', 'GAG', 'AGG', 'ATA', 'GCG', 'AAC', 'GAC', 'CTG', 'AAC', 'ATA', 'GGG', 'TAG', 'CAG', 'GCG', 'GCG', 'AGG', 'GCG', 'GTG', 'AAG', 'CAC', 'GCG', 'GCG', 'AAC', 'GCG', 'GGG', 'GTG', 'CAC', 'AGG', 'AGG', 'GGG', 'CCG', 'GTG', 'TAC', 'GAC', 'TAC', 'GCG', 'GAC', 'TGC', 'TAC', 'AAC', 'CCG', 'GGG', 'AAG', 'CAG', 'GCG', 'CCG', 'GCG', 'AAG', 'CAC', 'GGG', 'ATA', 'AAC', 'GCG', 'GGG', 'CAG', 'GCG', 'CTG', 'AAC', 'CTG', 'GGG', 'GCG', 'ACG', 'GCG', 'AAC', 'CTG', 'AGG', 'AAG', 'ATA', 'CAG', 'AAC', 'CCG', 'AAG', 'GCG', 'GGG', 'AGG', 'GGG', 'CCG', 'CTG', 'TAG', 'TAA', 'GAG', 'GCG', 'CCG', 'GGG', 'GGG', 'GCG']\n['AGC', 'CCG', 'GCG', 'GCG', 'GCG', 'GCG', 'GCG', 'AAG', 'AGC', 'CCG', 'TAC', 'TGC', 'AAC', 'AGG', 'ATA', 'GAC', 'CCG', 'GCG', 'CTG', 'GTG', 'AGG', 'AAG', 'GCG', 'GCG', 'GAG', 'GCG', 'AGC', 'ATA', 'CCG', 'GGG', 'TAC', 'CAC', 'ATA', 'AGG', 'AAC', 'AGC', 'GCG', 'GCG', 'CCG', 'GCG', 'AGC', 'CCG', 'TAG', 'CCG', 'GCG', 'CCG', 'GAC', 'GAG', 'CAG', 'ATA', 'ACG', 'AAG', 'CTG', 'GCG', 'TTC', 'CCG', 'AGG', 'ATA', 'AGG', 'CCG', 'AAC', 'GCG', 'CAG', 'GCG', 'CCG', 'AGG', 'ATA', 'GCG', 'AGC', 'CCG', 'AGG', 'GCG', 'GGG', 'GCG', 'AGG', 'CCG', 'GGG', 'AAC', 'AAC', 'GCG', 'CCG', 'GGG', 'AGG', 'CTG', 'CCG', 'CCG', 'ACG', 'AAC', 'GCG', 'CTG', 'GCG', 'GAC', 'GCG', 'TAC', 'GTG', 'ATA', 'AAG', 'AGG', 'AAG', 'CTG', 'CCG', 'GAG', 'TAA', 'AGG', 'ACG', 'AAC', 'GCG', 'GCG', 'AAC', 'TAA', 'CCG', 'GCG', 'TAA', 'ATA', 'CAC', 'CCG', 'AGG', 'AGG', 'AGC', 'GTG', 'AGG', 'GCG', 'AGG', 'CCG', 'AAC', 'GGG', 'CCG', 'TTC', 'GCG', 'AAC', 'GCG', 'AAG', 'CTG', 'ACG', 'AAC', 'TAA', 'TGC', 'GAC', 'CCG', 'AAG', 'AAC', 'GGG', 'AAC', 'AAC', 'GCG', 'AGC', 'AGC', 'CAG', 'AGG', 'GAC', 'GCG', 'CCG', 'GCG', 'CCG', 'GCG', 'GCG', 'GCG', 'GAC', 'CTG', 'ATA', 'AAC', 'AGG', 'TTC', 'GCG', 'AAC', 'TAC', 'TGC', 'AAC', 'AGC', 'CCG', 'CCG', 'AGG', 'GCG', 'TAC', 'GCG', 'GAC', 'CTG', 'AGC', 'GAC', 'AGG', 'AGC', 'GGG', 'CCG', 'GCG', 'GGG', 'GGG', 'GCG', 'AAC', 'GCG', 'AGC', 'ATA', 'CCG', 'GAC', 'GAC', 'GTG', 'ACG', 'AGC', 'GCG', 'CTG', 'GCG', 'GCG', 'AAC', 'AAG', 'GCG', 'GCG', 'CCG', 'GAG', 'GCG', 'GCG', 'CCG', 'GCG', 'GCG', 'GCG', 'AAC', 'GAG', 'ATA', 'AGC', 'GCG', 'GCG', 'AGC', 'AGC', 'ATA', 'ATA', 'AAG', 'AGG', 'AAG', 'ACG', 'GAC', 'CCG', 'AGG', 'AAC', 'GCG', 'AGG', 'CCG', 'AGG', 'AAG', 'CCG', 'CTG', 'CCG', 'TAC', 'GCG', 'CCG', 'AGG', 'GCG', 'GCG', 'AAC', 'GCG', 'CAG', 'GCG', 'GGG', 'CTG', 'AAG', 'AGC', 'GCG', 'AGC', 'AAG', 'CCG', 'AAG', 'CTG', 'TAA', 'TGC', 'CAG', 'AGC', 'AGC', 'AGC', 'AGG', 'AAC', 'GAC', 'CCG', 'AAG', 'GAG', 'AAC', 'AGC', 'AGG', 'GCG', 'AGG', 'AAG', 'AAG', 'AGC', 'GAG', 'CAG', 'CCG', 'AGG', 'AAC', 'AAC', 'GCG', 'GTG', 'GCG', 'AGG', 'GCG', 'GCG', 'AGC', 'AAG', 'AAG', 'AAC', 'CTG', 'TAC', 'GAC', 'GAG', 'GGG', 'CCG', 'GCG', 'CTG', 'AAC', 'AAG', 'AAG', 'AGC', 'GCG', 'AGG', 'GCG', 'TAA', 'CCG', 'AAG', 'CAG', 'AGC', 'GAG', 'GGG', 'AAG', 'GCG', 'CCG', 'CCG', 'CTG', 'GCG', 'GCG', 'GCG', 'CCG', 'GCG', 'GAC', 'ATA', 'AGG', 'GCG', 'GCG', 'CCG', 'GGG', 'TAA', 'CCG', 'GGG', 'AGC', 'AGC', 'AGG', 'GGG', 'AGG', 'TAG', 'AGG', 'AGG', 'GGG', 'CCG', 'AGG', 'AGG', 'CCG', 'GCG', 'GCG', 'GTG', 'GAC', 'GGG', 'GAG', 'CAG', 'GCG', 'GCG', 'AGG', 'AAG', 'TAA', 'AAG', 'TAC', 'ATA', 'AAC', 'GCG', 'AGG', 'GAC', 'CCG', 'AAC', 'GTG', 'AAG', 'TAC', 'ATA', 'CCG', 'AAG', 'AAC', 'GCG', 'GAC', 'TAG', 'CCG', 'TAC', 'TAG', 'AGG', 'CTG', 'AAC', 'GCG', 'AGG', 'AGC', 'ATA', 'GAC', 'AGG', 'GCG', 'GCG', 'GCG', 'CCG', 'GCG', 'GCG', 'AAC', 'GCG', 'CAC', 'GAG', 'AGG', 'AGC', 'AAG', 'AAG', 'AGG', 'AAG', 'AGC', 'CAG', 'GCG', 'CCG', 'CCG', 'AAG', 'TAG', 'GGG', 'AGG', 'AAG', 'CTG', 'AAG', 'AGG', 'AGG', 'TGC', 'GCG', 'GGG', 'GAC', 'CCG', 'TAC', 'AAG', 'AAG', 'TTC', 'TAA', 'GAC', 'AGC', 'AAG', 'ATA', 'AGG', 'GGG', 'TAC', 'AGC', 'AAC', 'AAC', 'CAG', 'AAG', 'AAG', 'AGG', 'AGG', 'GAC', 'CCG', 'GCG', 'AAG', 'AGC', 'GTG', 'GGG', 'TAC', 'AAC', 'GCG', 'GCG', 'AGG', 'CTG', 'GCG', 'AAC', 'AAC', 'CTG', 'AGG', 'TAC', 'AAC', 'TAG', 'AGC', 'GCG', 'AAC', 'GAC', 'GGG', 'AGG', 'CTG', 'GCG', 'CCG', 'CTG', 'GCG', 'GCG', 'GGG', 'CCG', 'AAG', 'AAG', 'AGC', 'AGG', 'TAC', 'GCG', 'TAG', 'AAG', 'TAC', 'GCG', 'GCG', 'TAC', 'AAG', 'AGG', 'AAC', 'GCG', 'CCG', 'AAC', 'GCG', 'CCG', 'GCG', 'AGG', 'AGG', 'GAG', 'AGC', 'GCG', 'AGG', 'AAC', 'TAC', 'AAG', 'CAG', 'TTC', 'CCG', 'ATA', 'AAC', 'GTG', 'TAA', 'TAC', 'GCG', 'GCG', 'GCG', 'CCG', 'CTG', 'TAC', 'GTG', 'AGG', 'GAC', 'AAC', 'CCG', 'AAC', 'GGG', 'CTG', 'ATA', 'CTG', 'GAG', 'AAG', 'AAG', 'AAC', 'GCG', 'AAG', 'TAA', 'TAA', 'AGG', 'CTG', 'CCG', 'TAG', 'GCG', 'ATA', 'AAG', 'GCG', 'GCG', 'GCG', 'TAA', 'AAC', 'AAG', 'GCG', 'AAC', 'TAA', 'TAA', 'GGG', 'GGG', 'TAG', 'GCG', 'GCG', 'TAA', 'GGG', 'GCG', 'AAG', 'AAG', 'AAC', 'AGG', 'CTG', 'AAC', 'GAC', 'GGG', 'CTG', 'ACG', 'AGG', 'GGG', 'AAC', 'CCG', 'AAG', 'GAC', 'TTC', 'TAA', 'GGG', 'GAC', 'TGC', 'GGG', 'AAG', 'GGG', 'CCG', 'CCG', 'AAC', 'CCG', 'GGG', 'GGG', 'GGG', 'TAC', 'AGG', 'GAC', 'AAG', 'CAG', 'GCG', 'AGG', 'AAC', 'CCG', 'AGC', 'AGG', 'TAC', 'GCG', 'CCG', 'AGG', 'AGG', 'AGG', 'GCG', 'CCG', 'AGC', 'GAG', 'TAC', 'AAC', 'GAG', 'AAG', 'GGG', 'TAG', 'GGG', 'GAC', 'GCG', 'GCG', 'GCG', 'GAC', 'AAC', 'AAC', 'AGG', 'AGC', 'GCG', 'CCG', 'AGG', 'GGG', 'AGG', 'TAA', 'TTC', 'TGC', 'TAA', 'CCG', 'AGG', 'AAG', 'AGG', 'GCG', 'TAC', 'GGG', 'GTG', 'ATA', 'GCG', 'ATA', 'GCG', 'TGC', 'GGG', 'TGC', 'AGC', 'CCG', 'AAC', 'ATA', 'AGG', 'AGG', 'GAC', 'GCG', 'AGG', 'CCG', 'AAG', 'AAC', 'TAC', 'GCG', 'AGC', 'AAC', 'AAC', 'AAC', 'AAC', 'CCG', 'CTG', 'AGG', 'TAA', 'AGG', 'CTG', 'GCG', 'CCG', 'CCG', 'GCG', 'GCG', 'GAC', 'AAG', 'TAA', 'AGG', 'GCG', 'ATA', 'AAC', 'AAG', 'AAG', 'TTC', 'CCG', 'GGG', 'GGG', 'ACG', 'AAG', 'AAC', 'CAC', 'CCG', 'AGG', 'CCG', 'AAG', 'AAG', 'GTG', 'AGG', 'TAG', 'GGG', 'GGG', 'TAC', 'AAG', 'CTG', 'CCG', 'GCG', 'AGC', 'GCG', 'GCG', 'GCG', 'AGG', 'ACG', 'GGG', 'TAC', 'CTG', 'GCG', 'CCG', 'TAG', 'CCG', 'AGC', 'AGG', 'AGG', 'GAC', 'GGG', 'AAC', 'AGG', 'GCG', 'CCG', 'CCG', 'AGC', 'AGG', 'GAC', 'GCG', 'GCG', 'CCG', 'AGG', 'CTG', 'AAC', 'GCG', 'CCG', 'AGG', 'GAG', 'AGG', 'ATA', 'GCG', 'AAC', 'GAC', 'CTG', 'AAC', 'ATA', 'GGG', 'TAG', 'CAG', 'GCG', 'GCG', 'AGG', 'GCG', 'GTG', 'AAG', 'CAC', 'GCG', 'GCG', 'AAC', 'GCG', 'GGG', 'GTG', 'CAC', 'AGG', 'AGG', 'GGG', 'CCG', 'GTG', 'TAC', 'GAC', 'TAC', 'GCG', 'GAC', 'TGC', 'TAC', 'AAC', 'CCG', 'GGG', 'AAG', 'CAG', 'GCG', 'CCG', 'GCG', 'AAG', 'CAC', 'GGG', 'ATA', 'AAC', 'GCG', 'GGG', 'CAG', 'GCG', 'CTG', 'AAC', 'CTG', 'GGG', 'GCG', 'ACG', 'GCG', 'AAC', 'CTG', 'AGG', 'AAG', 'ATA', 'CAG', 'AAC', 'CCG', 'AAG', 'GCG', 'GGG', 'AGG', 'GGG', 'CCG', 'CTG', 'TAG', 'TAA', 'GAG', 'GCG', 'CCG', 'GGG', 'GGG', 'GCG', 'GCG']\n['AGC', 'CCG', 'GCG', 'GCG', 'GCG', 'GCG', 'GCG', 'AAG', 'AGC', 'CCG', 'TAC', 'TGC', 'AAC', 'AGG', 'ATA', 'GAC', 'CCG', 'GCG', 'CTG', 'GTG', 'AGG', 'AAG', 'GCG', 'GCG', 'GAG', 'GCG', 'AGC', 'ATA', 'CCG', 'GGG', 'TAC', 'CAC', 'ATA', 'AGG', 'AAC', 'AGC', 'GCG', 'GCG', 'CCG', 'GCG', 'AGC', 'CCG', 'TAG', 'CCG', 'GCG', 'CCG', 'GAC', 'GAG', 'CAG', 'ATA', 'ACG', 'AAG', 'CTG', 'GCG', 'TTC', 'CCG', 'AGG', 'ATA', 'AGG', 'CCG', 'AAC', 'GCG', 'CAG', 'GCG', 'CCG', 'AGG', 'ATA', 'GCG', 'AGC', 'CCG', 'AGG', 'GCG', 'GGG', 'GCG', 'AGG', 'CCG', 'GGG', 'AAC', 'AAC', 'GCG', 'CCG', 'GGG', 'AGG', 'CTG', 'CCG', 'CCG', 'ACG', 'AAC', 'GCG', 'CTG', 'GCG', 'GAC', 'GCG', 'TAC', 'GTG', 'ATA', 'AAG', 'AGG', 'AAG', 'CTG', 'CCG', 'GAG', 'TAA', 'AGG', 'ACG', 'AAC', 'GCG', 'GCG', 'AAC', 'TAA', 'CCG', 'GCG', 'TAA', 'ATA', 'CAC', 'CCG', 'AGG', 'AGG', 'AGC', 'GTG', 'AGG', 'GCG', 'AGG', 'CCG', 'AAC', 'GGG', 'CCG', 'TTC', 'GCG', 'AAC', 'GCG', 'AAG', 'CTG', 'ACG', 'AAC', 'TAA', 'TGC', 'GAC', 'CCG', 'AAG', 'AAC', 'GGG', 'AAC', 'AAC', 'GCG', 'AGC', 'AGC', 'CAG', 'AGG', 'GAC', 'GCG', 'CCG', 'GCG', 'CCG', 'GCG', 'GCG', 'GCG', 'GAC', 'CTG', 'ATA', 'AAC', 'AGG', 'TTC', 'GCG', 'AAC', 'TAC', 'TGC', 'AAC', 'AGC', 'CCG', 'CCG', 'AGG', 'GCG', 'TAC', 'GCG', 'GAC', 'CTG', 'AGC', 'GAC', 'AGG', 'AGC', 'GGG', 'CCG', 'GCG', 'GGG', 'GGG', 'GCG', 'AAC', 'GCG', 'AGC', 'ATA', 'CCG', 'GAC', 'GAC', 'GTG', 'ACG', 'AGC', 'GCG', 'CTG', 'GCG', 'GCG', 'AAC', 'AAG', 'GCG', 'GCG', 'CCG', 'GAG', 'GCG', 'GCG', 'CCG', 'GCG', 'GCG', 'GCG', 'AAC', 'GAG', 'ATA', 'AGC', 'GCG', 'GCG', 'AGC', 'AGC', 'ATA', 'ATA', 'AAG', 'AGG', 'AAG', 'ACG', 'GAC', 'CCG', 'AGG', 'AAC', 'GCG', 'AGG', 'CCG', 'AGG', 'AAG', 'CCG', 'CTG', 'CCG', 'TAC', 'GCG', 'CCG', 'AGG', 'GCG', 'GCG', 'AAC', 'GCG', 'CAG', 'GCG', 'GGG', 'CTG', 'AAG', 'AGC', 'GCG', 'AGC', 'AAG', 'CCG', 'AAG', 'CTG', 'TAA', 'TGC', 'CAG', 'AGC', 'AGC', 'AGC', 'AGG', 'AAC', 'GAC', 'CCG', 'AAG', 'GAG', 'AAC', 'AGC', 'AGG', 'GCG', 'AGG', 'AAG', 'AAG', 'AGC', 'GAG', 'CAG', 'CCG', 'AGG', 'AAC', 'AAC', 'GCG', 'GTG', 'GCG', 'AGG', 'GCG', 'GCG', 'AGC', 'AAG', 'AAG', 'AAC', 'CTG', 'TAC', 'GAC', 'GAG', 'GGG', 'CCG', 'GCG', 'CTG', 'AAC', 'AAG', 'AAG', 'AGC', 'GCG', 'AGG', 'GCG', 'TAA', 'CCG', 'AAG', 'CAG', 'AGC', 'GAG', 'GGG', 'AAG', 'GCG', 'CCG', 'CCG', 'CTG', 'GCG', 'GCG', 'GCG', 'CCG', 'GCG', 'GAC', 'ATA', 'AGG', 'GCG', 'GCG', 'CCG', 'GGG', 'TAA', 'CCG', 'GGG', 'AGC', 'AGC', 'AGG', 'GGG', 'AGG', 'TAG', 'AGG', 'AGG', 'GGG', 'CCG', 'AGG', 'AGG', 'CCG', 'GCG', 'GCG', 'GTG', 'GAC', 'GGG', 'GAG', 'CAG', 'GCG', 'GCG', 'AGG', 'AAG', 'TAA', 'AAG', 'TAC', 'ATA', 'AAC', 'GCG', 'AGG', 'GAC', 'CCG', 'AAC', 'GTG', 'AAG', 'TAC', 'ATA', 'CCG', 'AAG', 'AAC', 'GCG', 'GAC', 'TAG', 'CCG', 'TAC', 'TAG', 'AGG', 'CTG', 'AAC', 'GCG', 'AGG', 'AGC', 'ATA', 'GAC', 'AGG', 'GCG', 'GCG', 'GCG', 'CCG', 'GCG', 'GCG', 'AAC', 'GCG', 'CAC', 'GAG', 'AGG', 'AGC', 'AAG', 'AAG', 'AGG', 'AAG', 'AGC', 'CAG', 'GCG', 'CCG', 'CCG', 'AAG', 'TAG', 'GGG', 'AGG', 'AAG', 'CTG', 'AAG', 'AGG', 'AGG', 'TGC', 'GCG', 'GGG', 'GAC', 'CCG', 'TAC', 'AAG', 'AAG', 'TTC', 'TAA', 'GAC', 'AGC', 'AAG', 'ATA', 'AGG', 'GGG', 'TAC', 'AGC', 'AAC', 'AAC', 'CAG', 'AAG', 'AAG', 'AGG', 'AGG', 'GAC', 'CCG', 'GCG', 'AAG', 'AGC', 'GTG', 'GGG', 'TAC', 'AAC', 'GCG', 'GCG', 'AGG', 'CTG', 'GCG', 'AAC', 'AAC', 'CTG', 'AGG', 'TAC', 'AAC', 'TAG', 'AGC', 'GCG', 'AAC', 'GAC', 'GGG', 'AGG', 'CTG', 'GCG', 'CCG', 'CTG', 'GCG', 'GCG', 'GGG', 'CCG', 'AAG', 'AAG', 'AGC', 'AGG', 'TAC', 'GCG', 'TAG', 'AAG', 'TAC', 'GCG', 'GCG', 'TAC', 'AAG', 'AGG', 'AAC', 'GCG', 'CCG', 'AAC', 'GCG', 'CCG', 'GCG', 'AGG', 'AGG', 'GAG', 'AGC', 'GCG', 'AGG', 'AAC', 'TAC', 'AAG', 'CAG', 'TTC', 'CCG', 'ATA', 'AAC', 'GTG', 'TAA', 'TAC', 'GCG', 'GCG', 'GCG', 'CCG', 'CTG', 'TAC', 'GTG', 'AGG', 'GAC', 'AAC', 'CCG', 'AAC', 'GGG', 'CTG', 'ATA', 'CTG', 'GAG', 'AAG', 'AAG', 'AAC', 'GCG', 'AAG', 'TAA', 'TAA', 'AGG', 'CTG', 'CCG', 'TAG', 'GCG', 'ATA', 'AAG', 'GCG', 'GCG', 'GCG', 'TAA', 'AAC', 'AAG', 'GCG', 'AAC', 'TAA', 'TAA', 'GGG', 'GGG', 'TAG', 'GCG', 'GCG', 'TAA', 'GGG', 'GCG', 'AAG', 'AAG', 'AAC', 'AGG', 'CTG', 'AAC', 'GAC', 'GGG', 'CTG', 'ACG', 'AGG', 'GGG', 'AAC', 'CCG', 'AAG', 'GAC', 'TTC', 'TAA', 'GGG', 'GAC', 'TGC', 'GGG', 'AAG', 'GGG', 'CCG', 'CCG', 'AAC', 'CCG', 'GGG', 'GGG', 'GGG', 'TAC', 'AGG', 'GAC', 'AAG', 'CAG', 'GCG', 'AGG', 'AAC', 'CCG', 'AGC', 'AGG', 'TAC', 'GCG', 'CCG', 'AGG', 'AGG', 'AGG', 'GCG', 'CCG', 'AGC', 'GAG', 'TAC', 'AAC', 'GAG', 'AAG', 'GGG', 'TAG', 'GGG', 'GAC', 'GCG', 'GCG', 'GCG', 'GAC', 'AAC', 'AAC', 'AGG', 'AGC', 'GCG', 'CCG', 'AGG', 'GGG', 'AGG', 'TAA', 'TTC', 'TGC', 'TAA', 'CCG', 'AGG', 'AAG', 'AGG', 'GCG', 'TAC', 'GGG', 'GTG', 'ATA', 'GCG', 'ATA', 'GCG', 'TGC', 'GGG', 'TGC', 'AGC', 'CCG', 'AAC', 'ATA', 'AGG', 'AGG', 'GAC', 'GCG', 'AGG', 'CCG', 'AAG', 'AAC', 'TAC', 'GCG', 'AGC', 'AAC', 'AAC', 'AAC', 'AAC', 'CCG', 'CTG', 'AGG', 'TAA', 'AGG', 'CTG', 'GCG', 'CCG', 'CCG', 'GCG', 'GCG', 'GAC', 'AAG', 'TAA', 'AGG', 'GCG', 'ATA', 'AAC', 'AAG', 'AAG', 'TTC', 'CCG', 'GGG', 'GGG', 'ACG', 'AAG', 'AAC', 'CAC', 'CCG', 'AGG', 'CCG', 'AAG', 'AAG', 'GTG', 'AGG', 'TAG', 'GGG', 'GGG', 'TAC', 'AAG', 'CTG', 'CCG', 'GCG', 'AGC', 'GCG', 'GCG', 'GCG', 'AGG', 'ACG', 'GGG', 'TAC', 'CTG', 'GCG', 'CCG', 'TAG', 'CCG', 'AGC', 'AGG', 'AGG', 'GAC', 'GGG', 'AAC', 'AGG', 'GCG', 'CCG', 'CCG', 'AGC', 'AGG', 'GAC', 'GCG', 'GCG', 'CCG', 'AGG', 'CTG', 'AAC', 'GCG', 'CCG', 'AGG', 'GAG', 'AGG', 'ATA', 'GCG', 'AAC', 'GAC', 'CTG', 'AAC', 'ATA', 'GGG', 'TAG', 'CAG', 'GCG', 'GCG', 'AGG', 'GCG', 'GTG', 'AAG', 'CAC', 'GCG', 'GCG', 'AAC', 'GCG', 'GGG', 'GTG', 'CAC', 'AGG', 'AGG', 'GGG', 'CCG', 'GTG', 'TAC', 'GAC', 'TAC', 'GCG', 'GAC', 'TGC', 'TAC', 'AAC', 'CCG', 'GGG', 'AAG', 'CAG', 'GCG', 'CCG', 'GCG', 'AAG', 'CAC', 'GGG', 'ATA', 'AAC', 'GCG', 'GGG', 'CAG', 'GCG', 'CTG', 'AAC', 'CTG', 'GGG', 'GCG', 'ACG', 'GCG', 'AAC', 'CTG', 'AGG', 'AAG', 'ATA', 'CAG', 'AAC', 'CCG', 'AAG', 'GCG', 'GGG', 'AGG', 'GGG', 'CCG', 'CTG', 'TAG', 'TAA', 'GAG', 'GCG', 'CCG', 'GGG', 'GGG', 'GCG', 'GCG', 'CTG']\n"
    }
   ],
   "source": [
    "num_aminos = 64\n",
    "seq_length = 1500\n",
    "num_classes = 30\n",
    "seq_per_class = 10\n",
    "d = create_set(num_aminos, seq_length, num_classes, seq_per_class)\n",
    "key = [i for i in range(num_classes)]\n",
    "#list of tuples (x,y) where x is a string and y is index\n",
    "fout = str(num_aminos) + '_' + str(seq_length) + '_' + str(num_classes) + '_' + str(seq_per_class)\n",
    "print(fout)\n",
    "with open('data/data%s.csv' % fout, 'w') as f:\n",
    "#with open('data/64_30_30_10.csv', 'w') as f:\n",
    "    writer = csv.writer(f)\n",
    "    writer.writerow(key)\n",
    "    writer.writerows(zip(*d.values()))\n",
    "\n",
    "try:\n",
    "    myfile = open('data/data%s.csv' % fout, \"r+\")\n",
    "except IOError:\n",
    "    print (\"Could not open file!\")"
   ]
  },
  {
   "cell_type": "code",
   "execution_count": null,
   "metadata": {},
   "outputs": [],
   "source": []
  }
 ],
 "metadata": {
  "kernelspec": {
   "display_name": "Python 3",
   "language": "python",
   "name": "python3"
  },
  "language_info": {
   "codemirror_mode": {
    "name": "ipython",
    "version": 3
   },
   "file_extension": ".py",
   "mimetype": "text/x-python",
   "name": "python",
   "nbconvert_exporter": "python",
   "pygments_lexer": "ipython3",
   "version": "3.7.5"
  }
 },
 "nbformat": 4,
 "nbformat_minor": 4
}